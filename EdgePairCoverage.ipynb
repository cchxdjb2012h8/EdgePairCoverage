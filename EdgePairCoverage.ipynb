{
 "cells": [
  {
   "cell_type": "markdown",
   "id": "8ec500fc",
   "metadata": {},
   "source": [
    "# EdgePairCoverage EPC"
   ]
  },
  {
   "cell_type": "markdown",
   "id": "b662ae2d",
   "metadata": {},
   "source": [
    "## Parameter setting"
   ]
  },
  {
   "cell_type": "markdown",
   "id": "d03a0c69",
   "metadata": {},
   "source": [
    "Setting of all parameters"
   ]
  },
  {
   "cell_type": "code",
   "execution_count": 1,
   "id": "cb9f2ef5",
   "metadata": {},
   "outputs": [],
   "source": [
    "regexStr='a+b+'#Regular expressions to test\n",
    "accChars=[]#This parameter is no longer used"
   ]
  },
  {
   "cell_type": "markdown",
   "id": "c923398c",
   "metadata": {},
   "source": [
    "## Regex -> DFA that accepts its complement"
   ]
  },
  {
   "cell_type": "markdown",
   "id": "89a9f9ca",
   "metadata": {},
   "source": [
    "### Java Kernel"
   ]
  },
  {
   "cell_type": "markdown",
   "id": "d1c497b3",
   "metadata": {},
   "source": [
    "Load Java package dk.brics.automaton via jpype"
   ]
  },
  {
   "cell_type": "code",
   "execution_count": 2,
   "id": "7053235a",
   "metadata": {},
   "outputs": [],
   "source": [
    "import copy\n",
    "import random"
   ]
  },
  {
   "cell_type": "code",
   "execution_count": 3,
   "id": "e28908bf",
   "metadata": {},
   "outputs": [],
   "source": [
    "import jpype\n",
    "import os\n",
    "jarpath = os.path.join(os.path.abspath(\".\"), \"dkbrics.jar\")\n",
    "jvmPath = jpype.getDefaultJVMPath()\n",
    "jpype.startJVM(jvmPath,\"-ea\", \"-Djava.class.path=%s\" % (jarpath))\n",
    "RegExp = jpype.JClass(\"dk.brics.automaton.RegExp\")"
   ]
  },
  {
   "cell_type": "markdown",
   "id": "f36080ab",
   "metadata": {},
   "source": [
    "Generating a minimal deterministic automaton that accepts its complement by means of a regular expression and converting it into string form for subsequent processing"
   ]
  },
  {
   "cell_type": "code",
   "execution_count": 4,
   "id": "4d38f503",
   "metadata": {},
   "outputs": [],
   "source": [
    "regex = RegExp(regexStr)\n",
    "automaton=regex.toAutomaton()\n",
    "automaton.minimize()\n",
    "dfa=automaton.toString()\n",
    "# dfs=automaton.toDot()\n",
    "# print(dfa)\n",
    "dfastr=str(dfa)\n",
    "# dfastr[0:9]=='singleton'\n",
    "# jpype.shutdownJVM()"
   ]
  },
  {
   "cell_type": "markdown",
   "id": "ad1b883c",
   "metadata": {},
   "source": [
    "### Python Data Processing"
   ]
  },
  {
   "cell_type": "markdown",
   "id": "e3645fb3",
   "metadata": {
    "scrolled": true
   },
   "source": [
    "Class-automaton definitions"
   ]
  },
  {
   "cell_type": "code",
   "execution_count": 5,
   "id": "7189415d",
   "metadata": {},
   "outputs": [],
   "source": [
    "class transition:\n",
    "    def __init__(self, char,toward):\n",
    "        self.char =char\n",
    "        self.toward=toward\n",
    "class point:#point include 0 to multiple transitions\n",
    "    def __init__(self, state):\n",
    "        self.state = state\n",
    "        self.trans = []\n",
    "class automata:#automata include 0 to multiple points\n",
    "    def __init__(self):\n",
    "        self.points = []\n",
    "        self.init=-1\n",
    "        self.acc = []"
   ]
  },
  {
   "cell_type": "markdown",
   "id": "547fc396",
   "metadata": {},
   "source": [
    "method getCharList: finds the characters in the alphabet of the given sequence, returns list"
   ]
  },
  {
   "cell_type": "code",
   "execution_count": 6,
   "id": "16865241",
   "metadata": {},
   "outputs": [],
   "source": [
    "def getCharList(start,end,accept=[]):\n",
    "    asciiCode=[ '  ',  '!',  '\" ',  '#',  '$',  '%',  '&',  '\\' ',  '( ',  ')',  '*',  '+',  ',',  '-',  '.',  '/',  '0',  '1',  '2',  '3',  '4',  '5',  '6',  '7',  '8',  '9',  ':',  ';',  '< ',  '= ',  '> ',  '?',  '@',  'A',  'B',  'C',  'D',  'E',  'F',  'G',  'H',  'I',  'J',  'K',  'L',  'M',  'N',  'O',  'P',  'Q',  'R',  'S',  'T',  'U',  'V',  'W',  'X',  'Y',  'Z',  '[ ',  '\\\\',  ']',  '^',  '_',  '`',  'a',  'b',  'c',  'd',  'e',  'f',  'g',  'h',  'i',  'j',  'k',  'l',  'm',  'n',  'o',  'p',  'q',  'r',  's',  't',  'u',  'v',  'w',  'x',  'y',  'z',  '{ ',  '|',  '}',  '~']\n",
    "    if len(accept)==0:\n",
    "        accept=asciiCode\n",
    "    charlist=[]\n",
    "    char=start\n",
    "    endplus=chr(ord(end)+1)\n",
    "    while char!=endplus :\n",
    "        if char in accept:\n",
    "            charlist.append(char)\n",
    "        char=chr(ord(char)+1) \n",
    "    return charlist"
   ]
  },
  {
   "cell_type": "markdown",
   "id": "23f21dc0",
   "metadata": {},
   "source": [
    "method checkCharList: returns a list of accepted characters by means of a range of characters given as a string"
   ]
  },
  {
   "cell_type": "code",
   "execution_count": 7,
   "id": "aab50b83",
   "metadata": {},
   "outputs": [],
   "source": [
    "def checkCharList(charstr,accept=[]):\n",
    "    chars=[]\n",
    "    if charstr.find('-')>=0 and len(charstr)>1:\n",
    "        if len(charstr.split('-'))==3 and charstr.split('-')[0]=='':\n",
    "            a='-'\n",
    "            b=eval(repr(charstr.split('-')[2]).replace('\\\\\\\\', '\\\\'))\n",
    "        elif len(charstr.split('-'))==3 and charstr.split('-')[2]=='':\n",
    "            b='-'\n",
    "            a=eval(repr(charstr.split('-')[0]).replace('\\\\\\\\', '\\\\'))\n",
    "        else:\n",
    "            a=eval(repr(charstr.split('-')[0]).replace('\\\\\\\\','\\\\'))\n",
    "            b=eval(repr(charstr.split('-')[1]).replace('\\\\\\\\', '\\\\'))\n",
    "        chars.extend(getCharList(a,b,accept))\n",
    "    else:\n",
    "        chars.append(charstr)\n",
    "    return chars"
   ]
  },
  {
   "cell_type": "markdown",
   "id": "8129205c",
   "metadata": {},
   "source": [
    "Generating defined automaton DFAs via Java package generated DFAs"
   ]
  },
  {
   "cell_type": "code",
   "execution_count": 8,
   "id": "fb226dfc",
   "metadata": {},
   "outputs": [],
   "source": [
    "auto=automata()\n",
    "dfaList=dfastr.split('\\n')\n",
    "auto.init=int(dfaList[0].split(': ')[1])\n",
    "del dfaList[0]\n",
    "for i in dfaList:\n",
    "    if i[0:5]=='state':\n",
    "        state_new=int(i.split(' ')[1])\n",
    "        if state_new!=0:\n",
    "            auto.points.append(point_new)\n",
    "        point_new=point(state_new)\n",
    "        if i.split(' ')[2]=='[accept]:':\n",
    "            auto.acc.append(state_new)\n",
    "        #print(i.split(' '))\n",
    "    elif i=='':\n",
    "        auto.points.append(point_new)\n",
    "    else:\n",
    "        temp=i.split(' -> ' )\n",
    "        charString=temp[0].strip()\n",
    "        charList=checkCharList(charString,accChars)\n",
    "        for theChar in charList:\n",
    "            transition_new=transition(theChar,int(temp[1]))\n",
    "            point_new.trans.append(transition_new)"
   ]
  },
  {
   "cell_type": "markdown",
   "id": "d1b134f7",
   "metadata": {},
   "source": [
    "Read all characters to complete the DFA"
   ]
  },
  {
   "cell_type": "code",
   "execution_count": 9,
   "id": "5c0a824d",
   "metadata": {},
   "outputs": [],
   "source": [
    "allTransChars=[]\n",
    "for Point in auto.points:\n",
    "    for Transition in Point.trans:\n",
    "        allTransChars.append(Transition.char)\n",
    "accChars=list(set(allTransChars))"
   ]
  },
  {
   "cell_type": "markdown",
   "id": "c7d9f31d",
   "metadata": {},
   "source": [
    "Adding a DEAD status"
   ]
  },
  {
   "cell_type": "code",
   "execution_count": 10,
   "id": "6fb5e94e",
   "metadata": {},
   "outputs": [],
   "source": [
    "point_dead=point(-1)\n",
    "auto.points.append(point_dead)"
   ]
  },
  {
   "cell_type": "markdown",
   "id": "295e352f",
   "metadata": {},
   "source": [
    "Complementary connection layer"
   ]
  },
  {
   "cell_type": "code",
   "execution_count": 11,
   "id": "eb452913",
   "metadata": {},
   "outputs": [],
   "source": [
    "for Point in auto.points:\n",
    "    TransChars=[]\n",
    "    for Transition in Point.trans:\n",
    "        TransChars.append(Transition.char)\n",
    "    if set(TransChars)!=set(accChars):\n",
    "        #print(\"lack:\",Point.state)\n",
    "        for thisChar in accChars:\n",
    "            if thisChar not in TransChars:\n",
    "                #print(thisChar,\" not in \")#,TransChars)\n",
    "                transition_new=transition(thisChar,int(-1))\n",
    "                Point.trans.append(transition_new)"
   ]
  },
  {
   "cell_type": "markdown",
   "id": "713f65e9",
   "metadata": {},
   "source": [
    "Reconciliation of acceptance and rejection states"
   ]
  },
  {
   "cell_type": "code",
   "execution_count": 12,
   "id": "5c11eece",
   "metadata": {},
   "outputs": [],
   "source": [
    "States=[]\n",
    "for Point in auto.points:\n",
    "    States.append(Point.state)\n",
    "auto.acc=list(set(States)-set(auto.acc))"
   ]
  },
  {
   "cell_type": "markdown",
   "id": "2e006e84",
   "metadata": {},
   "source": [
    "Streamlined automaton with one random path reserved between two states (optional)"
   ]
  },
  {
   "cell_type": "code",
   "execution_count": 13,
   "id": "f3d459b7",
   "metadata": {},
   "outputs": [],
   "source": [
    "def LiteAutomata(auto):\n",
    "    for Point in auto.points:\n",
    "        Towards=[]\n",
    "        newTrans=[]\n",
    "        for Transition in Point.trans:\n",
    "            if Transition.toward not in Towards:\n",
    "                Towards.append(Transition.toward)\n",
    "        for Target in Towards:\n",
    "            alllist=[]\n",
    "            for Transition in Point.trans:\n",
    "                if Transition.toward == Target:\n",
    "                    alllist.append(Transition)\n",
    "            if len(alllist)>1:\n",
    "                length=len(alllist)\n",
    "                replist=[]\n",
    "                randomValue=random.sample(range(0,len(alllist)),1)[0]\n",
    "                replist.append(alllist[randomValue])\n",
    "                newTrans.extend(replist)\n",
    "            else:\n",
    "                newTrans.extend(alllist)\n",
    "        Point.trans=newTrans"
   ]
  },
  {
   "cell_type": "markdown",
   "id": "5c61237d",
   "metadata": {},
   "source": [
    "Delete this line if you don't want to streamline the automaton"
   ]
  },
  {
   "cell_type": "code",
   "execution_count": 14,
   "id": "a00a8c3d",
   "metadata": {},
   "outputs": [],
   "source": [
    "LiteAutomata(auto)"
   ]
  },
  {
   "cell_type": "markdown",
   "id": "dffecd3d",
   "metadata": {},
   "source": [
    "## DFA's Edge-pair Coverage"
   ]
  },
  {
   "cell_type": "markdown",
   "id": "42cfddba",
   "metadata": {},
   "source": [
    "### Data pre-processing"
   ]
  },
  {
   "cell_type": "markdown",
   "id": "3b5a90b4",
   "metadata": {},
   "source": [
    "Definition of class edge-pairs"
   ]
  },
  {
   "cell_type": "code",
   "execution_count": 15,
   "id": "30099da5",
   "metadata": {},
   "outputs": [],
   "source": [
    "class edgePair:\n",
    "    def __init__(self, state1,char1to2,state2,char2to3,state3):\n",
    "        self.state1 =state1\n",
    "        self.char1to2=char1to2\n",
    "        self.state2 =state2\n",
    "        self.char2to3=char2to3\n",
    "        self.state3 =state3\n",
    "        self.visited=False"
   ]
  },
  {
   "cell_type": "markdown",
   "id": "7937dc50",
   "metadata": {},
   "source": [
    "Class - Point definitions for edge pair-based proximity tables"
   ]
  },
  {
   "cell_type": "code",
   "execution_count": 16,
   "id": "08207bce",
   "metadata": {},
   "outputs": [],
   "source": [
    "class edgePairPoint:\n",
    "    def __init__(self, state):\n",
    "        self.state =state\n",
    "        self.edgePairs=[]"
   ]
  },
  {
   "cell_type": "markdown",
   "id": "ffc0a0c2",
   "metadata": {},
   "source": [
    "Generating edge-pair based proximity tables"
   ]
  },
  {
   "cell_type": "code",
   "execution_count": 17,
   "id": "89ab3f5a",
   "metadata": {},
   "outputs": [],
   "source": [
    "adjList=[]\n",
    "for Point in auto.points:\n",
    "    new_epp=edgePairPoint(Point.state)\n",
    "    adjList.append(new_epp)"
   ]
  },
  {
   "cell_type": "markdown",
   "id": "364b882f",
   "metadata": {},
   "source": [
    "method getEPoint: returns the point with the state State from the adjList"
   ]
  },
  {
   "cell_type": "code",
   "execution_count": 18,
   "id": "67de4f77",
   "metadata": {},
   "outputs": [],
   "source": [
    "def getEPPoint(State,adjList):\n",
    "    for epp in adjList:\n",
    "        if epp.state==State:\n",
    "            break\n",
    "    return epp"
   ]
  },
  {
   "cell_type": "markdown",
   "id": "d2a0e6b3",
   "metadata": {},
   "source": [
    "method getPoint: returns the point with the state State from the automaton"
   ]
  },
  {
   "cell_type": "code",
   "execution_count": 19,
   "id": "eb388bd1",
   "metadata": {},
   "outputs": [],
   "source": [
    "def getPoint(State,auto):\n",
    "    for point in auto.points:\n",
    "        if point.state==State:\n",
    "            break\n",
    "    return point"
   ]
  },
  {
   "cell_type": "markdown",
   "id": "5adec8cc",
   "metadata": {},
   "source": [
    "Generate a collection of edge-pairs edgePairs"
   ]
  },
  {
   "cell_type": "code",
   "execution_count": 20,
   "id": "e107dd94",
   "metadata": {},
   "outputs": [],
   "source": [
    "for Point in auto.points:\n",
    "    for Transition in Point.trans:\n",
    "        nextPoint=getPoint(Transition.toward,auto)\n",
    "        for nextTransition in nextPoint.trans:\n",
    "            newEdgePair= edgePair(Point.state, Transition.char, Transition.toward, nextTransition.char, nextTransition.toward)\n",
    "            epp = getEPPoint(Point.state,adjList)\n",
    "            epp.edgePairs.append(newEdgePair)"
   ]
  },
  {
   "cell_type": "markdown",
   "id": "e8d12a27",
   "metadata": {},
   "source": [
    "### Edge pair coverage algorithm"
   ]
  },
  {
   "cell_type": "markdown",
   "id": "55369975",
   "metadata": {},
   "source": [
    "Depth-first search algorithm based on edge pair indexing to generate depth-first search paths"
   ]
  },
  {
   "cell_type": "code",
   "execution_count": 21,
   "id": "ee847a97",
   "metadata": {},
   "outputs": [],
   "source": [
    "def detectRingEP(epp):\n",
    "    for EdgePair in epp.edgePairs:\n",
    "        if epp.state==EdgePair.state3 and EdgePair.visited==False:\n",
    "            return EdgePair\n",
    "    return False\n",
    "def tagVisitEP(state1,char1to2,state2,char2to3,state3,adjList):\n",
    "    for epp in adjList:\n",
    "        if epp.state==state1:\n",
    "            for EdgePair in epp.edgePairs:\n",
    "                if EdgePair.state2==state2\\\n",
    "                and EdgePair.char1to2==char1to2\\\n",
    "                and EdgePair.state3==state3\\\n",
    "                and EdgePair.char2to3==char2to3:\n",
    "                    EdgePair.visited=True\n",
    "def tagVisitRoad(each,adjList):\n",
    "    for n in range(0,len(each)-1):\n",
    "        tagVisitEP(each[n].state2,each[n].char2to3,each[n+1].state1,each[n+1].char1to2,each[n+1].state2,adjList)\n",
    "class Ring:\n",
    "    def __init__(self, edgePair):\n",
    "        self.edgePair =edgePair\n",
    "        self.repeat=False\n",
    "def getRingRoad(EdgePair,Rings):\n",
    "    for ring in Rings:\n",
    "        if EdgePair.state1==ring.edgePair.state1 \\\n",
    "        and EdgePair.char1to2==ring.edgePair.char1to2 \\\n",
    "        and EdgePair.state2==ring.edgePair.state2 \\\n",
    "        and EdgePair.char2to3==ring.edgePair.char2to3 \\\n",
    "        and EdgePair.state3==ring.edgePair.state3:\n",
    "            return ring\n",
    "def clearRingRoad(edgePairCoverage):\n",
    "    RingsEP=[]\n",
    "    Rings=[]\n",
    "    for road in edgePairCoverage:\n",
    "        for EdgePair in road:\n",
    "            if EdgePair.state1==EdgePair.state3:\n",
    "                if EdgePair not in RingsEP:\n",
    "                    RingsEP.append(copy.deepcopy(EdgePair))\n",
    "    for EdgePair in RingsEP:\n",
    "        new_ring=Ring(EdgePair)\n",
    "        Rings.append(new_ring)\n",
    "    for road in edgePairCoverage:\n",
    "        for EdgePair in road:\n",
    "            if EdgePair.state1==EdgePair.state3:\n",
    "                #print(EdgePair.state1,EdgePair.state3)\n",
    "                theRing=getRingRoad(EdgePair,Rings)\n",
    "                if theRing.repeat==False:\n",
    "                    #print('tag1')\n",
    "                    theRing.repeat=True\n",
    "                else:\n",
    "                    road.remove(EdgePair)\n",
    "                    #print('clear1')\n",
    "def DFS(epp,road,adjList,edgePairCoverage):\n",
    "    #tagVisitRoad(road,adjList)\n",
    "    flag=False\n",
    "    EdgePair=detectRingEP(epp)\n",
    "    if EdgePair and len(road)==0:\n",
    "        road.append(EdgePair)\n",
    "        EdgePair.visited=True\n",
    "        flag=True\n",
    "        DFS(epp,road,adjList,edgePairCoverage)\n",
    "    elif EdgePair and road[-1].state3==EdgePair.state2:\n",
    "        road.append(EdgePair)\n",
    "        EdgePair.visited=True\n",
    "        flag=True\n",
    "        DFS(epp,road,adjList,edgePairCoverage)\n",
    "    else:\n",
    "        for EdgePair in epp.edgePairs:\n",
    "            if EdgePair.visited==False:\n",
    "                road.append(EdgePair)\n",
    "                EdgePair.visited=True\n",
    "                nextPoint=getEPPoint(EdgePair.state2,adjList)\n",
    "                DFS(nextPoint,road,adjList,edgePairCoverage)\n",
    "                flag=True\n",
    "    if len(road)>0:\n",
    "        if flag==False:\n",
    "            edgePairCoverage.append(copy.deepcopy(road))#Cannot move on, storage path\n",
    "            #clearRingRoad(road)\n",
    "        road.pop()\n",
    "def DFSearch(epp,road,adjList,edgePairCoverage):\n",
    "    DFS(epp,road,adjList,edgePairCoverage)\n",
    "    for sp in adjList:\n",
    "        DFS(sp,road,adjList,edgePairCoverage)\n",
    "    clearRingRoad(edgePairCoverage)"
   ]
  },
  {
   "cell_type": "markdown",
   "id": "d55351fd",
   "metadata": {},
   "source": [
    "Generating a set of edge pairs overlays"
   ]
  },
  {
   "cell_type": "code",
   "execution_count": 22,
   "id": "10cd5958",
   "metadata": {},
   "outputs": [],
   "source": [
    "road=[]\n",
    "edgePairCoverage=[]\n",
    "startPoint=getEPPoint(auto.init,adjList)\n",
    "DFSearch(startPoint,road,adjList,edgePairCoverage)"
   ]
  },
  {
   "cell_type": "markdown",
   "id": "360d18d8",
   "metadata": {},
   "source": [
    "Definition of class-edge"
   ]
  },
  {
   "cell_type": "code",
   "execution_count": 23,
   "id": "be8b872d",
   "metadata": {},
   "outputs": [],
   "source": [
    "class edge:\n",
    "    def __init__(self, state1,char1to2,state2):\n",
    "        self.state1 =state1\n",
    "        self.char1to2=char1to2\n",
    "        self.state2 =state2"
   ]
  },
  {
   "cell_type": "markdown",
   "id": "8c0a9dca",
   "metadata": {},
   "source": [
    "Dump the path of an edge pair into the path of an edge and store it in the list edgeRoads"
   ]
  },
  {
   "cell_type": "code",
   "execution_count": 24,
   "id": "f18807c8",
   "metadata": {},
   "outputs": [],
   "source": [
    "edgeRoads=[]\n",
    "for each in edgePairCoverage:\n",
    "    edgeRoad=[]\n",
    "    for EdgePair in each:\n",
    "        new_edge1=edge(EdgePair.state1,EdgePair.char1to2,EdgePair.state2)\n",
    "        edgeRoad.append(new_edge1)\n",
    "    new_edge2=edge(EdgePair.state2,EdgePair.char2to3,EdgePair.state3)\n",
    "    edgeRoad.append(new_edge2)\n",
    "    edgeRoads.append(copy.deepcopy(edgeRoad))"
   ]
  },
  {
   "cell_type": "markdown",
   "id": "60183118",
   "metadata": {},
   "source": [
    "method onMove: for edges that do not touch the final state, extends them by the shortest path to the terminated state"
   ]
  },
  {
   "cell_type": "code",
   "execution_count": 25,
   "id": "82932a9c",
   "metadata": {},
   "outputs": [],
   "source": [
    "import heapq\n",
    "import math\n",
    "\n",
    "def generateEdgeAdjList(auto):\n",
    "    G={}\n",
    "    for Point in auto.points:\n",
    "        G[Point.state]={}\n",
    "        for Transition in Point.trans:\n",
    "            G[Point.state][Transition.toward]=1\n",
    "        G[Point.state][Point.state]=0\n",
    "    return G\n",
    "\n",
    "def init_distance(graph, s):\n",
    "    distance = {s: 0}\n",
    "    for vertex in graph:\n",
    "        if vertex != s:\n",
    "            distance[vertex] = math.inf\n",
    "    return distance\n",
    "\n",
    "def dijkstra(graph, s):\n",
    "    pqueue = []\n",
    "    heapq.heappush(pqueue, (0, s))\n",
    "    seen = set()\n",
    "    parent = {s: None}\n",
    "    distance = init_distance(graph, s)\n",
    "    while len(pqueue) > 0:\n",
    "        pair = heapq.heappop(pqueue)\n",
    "        dist = pair[0]\n",
    "        vertex = pair[1]\n",
    "        seen.add(s)\n",
    "        nodes = graph[vertex].keys()\n",
    "        for w in nodes:\n",
    "            if w not in seen:\n",
    "                if dist + graph[vertex][w] < distance[w]:\n",
    "                    heapq.heappush(pqueue, (dist + graph[vertex][w], w))\n",
    "                    parent[w] = vertex\n",
    "                    distance[w] = dist + graph[vertex][w]\n",
    "    return parent, distance\n",
    "\n",
    "def getFirstEdge(state1,state2,auto):\n",
    "    thisPoint=getPoint(state1,auto)\n",
    "    for Transition in thisPoint.trans:\n",
    "        if Transition.toward==state2:\n",
    "            break\n",
    "    new_edge=edge(state1,Transition.char,state2)\n",
    "    return new_edge\n",
    "\n",
    "def onMove(edgeRoad,auto,G):\n",
    "    if edgeRoad[-1].state2 in auto.acc:\n",
    "        return# edgeRoad\n",
    "    else:\n",
    "        parent_dict, distance_dict =dijkstra(G, edgeRoad[-1].state2)\n",
    "        shortestAcc=-1\n",
    "        minDistance=math.inf\n",
    "        for Toward in distance_dict.keys():\n",
    "            if distance_dict[Toward]<minDistance and Toward in auto.acc:\n",
    "                shortestAcc=Toward\n",
    "                minDistance=distance_dict[Toward]\n",
    "        reachEdges=[]\n",
    "        thisState=shortestAcc\n",
    "        while parent_dict[thisState]!=None:\n",
    "            new_edge=getFirstEdge(parent_dict[thisState],thisState,auto)\n",
    "            reachEdges.append(new_edge)\n",
    "            thisState=parent_dict[thisState]\n",
    "        reachEdges.reverse()\n",
    "        edgeRoad.extend(reachEdges)\n",
    "        return"
   ]
  },
  {
   "cell_type": "markdown",
   "id": "5a8d059b",
   "metadata": {},
   "source": [
    "method onBack: for edges that do not start from the initial state, extend them to the initial state by the shortest path"
   ]
  },
  {
   "cell_type": "code",
   "execution_count": 26,
   "id": "b73a66f4",
   "metadata": {},
   "outputs": [],
   "source": [
    "def generateEdgeInAdjList(auto):\n",
    "    G={}\n",
    "    for Point in auto.points:\n",
    "        G[Point.state]={}\n",
    "    for Point in auto.points:\n",
    "        for Transition in Point.trans:\n",
    "            G[Transition.toward][Point.state]=1\n",
    "        G[Point.state][Point.state]=0\n",
    "    return G\n",
    "def onBack(edgeRoad,auto, InG):\n",
    "    if edgeRoad[0].state1 == auto.init:\n",
    "        return\n",
    "    else:\n",
    "        parent_dict, distance_dict =dijkstra(InG, edgeRoad[0].state1)\n",
    "        #print(parent_dict)\n",
    "        reachEdges=[]\n",
    "        thisState=auto.init\n",
    "        while parent_dict[thisState]!=None:\n",
    "            #print(parent_dict[thisState])\n",
    "            new_edge=getFirstEdge(thisState,parent_dict[thisState],auto)\n",
    "            reachEdges.append(new_edge)\n",
    "            thisState=parent_dict[thisState]\n",
    "        reachEdges.reverse()\n",
    "        for reachEdge in reachEdges:\n",
    "            edgeRoad.insert(0 , reachEdge)\n",
    "        return"
   ]
  },
  {
   "cell_type": "markdown",
   "id": "063dee58",
   "metadata": {},
   "source": [
    "method onExtend: adds a path to a final state that has been traversed but not stopped"
   ]
  },
  {
   "cell_type": "code",
   "execution_count": 27,
   "id": "c7a238f0",
   "metadata": {},
   "outputs": [],
   "source": [
    "def onExtend(edgeRoads,auto):\n",
    "    CoveredAcc=[]\n",
    "    for eachRoad in edgeRoads:\n",
    "        if eachRoad[-1].state2 not in CoveredAcc:\n",
    "            CoveredAcc.append(eachRoad[-1].state2)\n",
    "    for eachRoad in edgeRoads:\n",
    "        thisRoad=copy.deepcopy(eachRoad)\n",
    "        while len(thisRoad)>0:\n",
    "            thisRoad.pop()\n",
    "            if len(thisRoad)>0:\n",
    "                if thisRoad[-1].state2 not in CoveredAcc and thisRoad[-1].state2 in auto.acc:\n",
    "                    thatRoad=copy.deepcopy(thisRoad)\n",
    "                    CoveredAcc.append(thisRoad[-1].state2)\n",
    "                    #print(generateString(thatRoad),thisRoad[-1].state2)\n",
    "                    edgeRoads.append(thatRoad)\n",
    "    #print(CoveredAcc,auto.acc)"
   ]
  },
  {
   "cell_type": "markdown",
   "id": "c75a1ed3",
   "metadata": {},
   "source": [
    "For paths that do not touch the final state, extend them to the final state; for paths that do not start from the initial state, extend them to the initial state; clean up paths that involve dead states"
   ]
  },
  {
   "cell_type": "code",
   "execution_count": 28,
   "id": "2077e93a",
   "metadata": {},
   "outputs": [],
   "source": [
    "G=generateEdgeAdjList(auto)\n",
    "InG=generateEdgeInAdjList(auto)\n",
    "roadNum=len(edgeRoads)\n",
    "delNum=0\n",
    "for n in range(0,roadNum):\n",
    "    try:\n",
    "        onMove(edgeRoads[n-delNum],auto,G)\n",
    "        onBack(edgeRoads[n-delNum],auto,InG)\n",
    "    except:\n",
    "        #print('remov')\n",
    "        edgeRoads.remove(edgeRoads[n-delNum])\n",
    "        delNum+=1"
   ]
  },
  {
   "cell_type": "markdown",
   "id": "27d20a45",
   "metadata": {},
   "source": [
    "For final states that have been traversed but not stopped, add the path"
   ]
  },
  {
   "cell_type": "code",
   "execution_count": 29,
   "id": "f622d534",
   "metadata": {},
   "outputs": [],
   "source": [
    "onExtend(edgeRoads,auto)"
   ]
  },
  {
   "cell_type": "markdown",
   "id": "16133d7a",
   "metadata": {},
   "source": [
    "## Generate strings by cover paths"
   ]
  },
  {
   "cell_type": "markdown",
   "id": "620e54af",
   "metadata": {},
   "source": [
    "Method generateString: Generates a string from the given edge path"
   ]
  },
  {
   "cell_type": "code",
   "execution_count": 30,
   "id": "5d3264d8",
   "metadata": {},
   "outputs": [],
   "source": [
    "def generateString(edgeRoad):\n",
    "    string=''\n",
    "    for Edge in edgeRoad:\n",
    "        string=string+Edge.char1to2\n",
    "    return string"
   ]
  },
  {
   "cell_type": "markdown",
   "id": "e9bd1fe3",
   "metadata": {},
   "source": [
    "Generate a string and display it"
   ]
  },
  {
   "cell_type": "code",
   "execution_count": 31,
   "id": "f7837257",
   "metadata": {
    "scrolled": true
   },
   "outputs": [],
   "source": [
    "Strings=[]\n",
    "NeStrings=[]\n",
    "if auto.init in auto.acc:\n",
    "    Strings.append('')  \n",
    "for eachRoad in edgeRoads:\n",
    "    #print(eachRoad[-1].state2)\n",
    "    if eachRoad[-1].state2 in auto.acc:\n",
    "        Strings.append(generateString(eachRoad))\n",
    "    else:\n",
    "        print(\"a positive string found\")\n",
    "        NeStrings.append(generateString(eachRoad))\n",
    "#print(Strings)#NeStrings)"
   ]
  },
  {
   "cell_type": "code",
   "execution_count": 32,
   "id": "bb1316d3",
   "metadata": {
    "scrolled": true
   },
   "outputs": [
    {
     "name": "stdout",
     "output_type": "stream",
     "text": [
      "[Negative] (null string)\n",
      "[Negative]  aaabbbabb\n",
      "[Negative]  aaba\n",
      "[Negative]  aba\n",
      "[Negative]  bb\n",
      "[Negative]  aaa\n"
     ]
    }
   ],
   "source": [
    "if auto.init in auto.acc:\n",
    "    print('[Negative] (null string)')\n",
    "for eachRoad in edgeRoads:\n",
    "    if eachRoad[-1].state2 in auto.acc:\n",
    "        print('[Negative] ',generateString(eachRoad))\n",
    "    else:\n",
    "        print('[Positive]',generateString(eachRoad))"
   ]
  }
 ],
 "metadata": {
  "kernelspec": {
   "display_name": "Python 3 (ipykernel)",
   "language": "python",
   "name": "python3"
  },
  "language_info": {
   "codemirror_mode": {
    "name": "ipython",
    "version": 3
   },
   "file_extension": ".py",
   "mimetype": "text/x-python",
   "name": "python",
   "nbconvert_exporter": "python",
   "pygments_lexer": "ipython3",
   "version": "3.9.12"
  }
 },
 "nbformat": 4,
 "nbformat_minor": 5
}
